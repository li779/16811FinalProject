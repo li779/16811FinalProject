{
  "nbformat": 4,
  "nbformat_minor": 0,
  "metadata": {
    "kernelspec": {
      "display_name": "Python 3",
      "language": "python",
      "name": "python3"
    },
    "language_info": {
      "codemirror_mode": {
        "name": "ipython",
        "version": 3
      },
      "file_extension": ".py",
      "mimetype": "text/x-python",
      "name": "python",
      "nbconvert_exporter": "python",
      "pygments_lexer": "ipython3",
      "version": "3.7.6"
    },
    "colab": {
      "name": "hw1.ipynb",
      "provenance": [],
      "collapsed_sections": [],
      "include_colab_link": true
    }
  },
  "cells": [
    {
      "cell_type": "markdown",
      "metadata": {
        "id": "view-in-github",
        "colab_type": "text"
      },
      "source": [
        "<a href=\"https://colab.research.google.com/github/li779/16811/blob/main/hw1.ipynb\" target=\"_parent\"><img src=\"https://colab.research.google.com/assets/colab-badge.svg\" alt=\"Open In Colab\"/></a>"
      ]
    },
    {
      "cell_type": "markdown",
      "metadata": {
        "id": "OYYFCSoQKU5h"
      },
      "source": [
        "#Problem 1a: interpolate procedure"
      ]
    },
    {
      "cell_type": "code",
      "metadata": {
        "colab": {
          "base_uri": "https://localhost:8080/"
        },
        "id": "j_TSamBGKU5l",
        "outputId": "bc17ccd9-98d1-43c9-b7a0-3607f4238035"
      },
      "source": [
        "import numpy as np\n",
        "def interpolate(x,y, val):\n",
        "  table = []\n",
        "  table.append(y)\n",
        "  for i in range(1,len(x)):\n",
        "    table.append([])\n",
        "    for j in range(len(x)-i):\n",
        "      table[-1].append((table[i-1][j]-table[i-1][j+1])/(x[j]-x[j+i]))\n",
        "  res = table[0][0]\n",
        "  sum = 1\n",
        "  for i in range(1,len(x)):\n",
        "    sum *= (val-x[i-1])\n",
        "    res += table[i][0]*sum\n",
        "  return res\n",
        "\n",
        "x = [0,1,-1]\n",
        "y = [1, 0, 4]\n",
        "print(interpolate(x,y,1))\n"
      ],
      "execution_count": 2,
      "outputs": [
        {
          "output_type": "stream",
          "name": "stdout",
          "text": [
            "0.0\n"
          ]
        }
      ]
    },
    {
      "cell_type": "markdown",
      "metadata": {
        "id": "lXrts_OXKU5p"
      },
      "source": [
        "#Problem 1b"
      ]
    },
    {
      "cell_type": "code",
      "metadata": {
        "colab": {
          "base_uri": "https://localhost:8080/"
        },
        "id": "EELtCG8vKU5q",
        "outputId": "6bc1f81e-f84b-4f53-dcb3-c96ab32a2969"
      },
      "source": [
        "x = [0, 0.125, 0.25, 0.5, 0.75, 1]\n",
        "y = [np.exp(-a**2/2) for a in x]\n",
        "\n",
        "print(\"x=1/3: estimate f(x)=\"+str(interpolate(x,y,1/3)))\n",
        "print(\"real value: \"+str(np.exp(-(1/3)**2/2)))"
      ],
      "execution_count": 3,
      "outputs": [
        {
          "output_type": "stream",
          "name": "stdout",
          "text": [
            "x=1/3: estimate f(x)=0.9459570124977975\n",
            "real value: 0.9459594689067654\n"
          ]
        }
      ]
    },
    {
      "cell_type": "markdown",
      "metadata": {
        "id": "53p2bV0wKU5r"
      },
      "source": [
        "#Problem1c"
      ]
    },
    {
      "cell_type": "code",
      "metadata": {
        "id": "kDnPhdqhKU5r",
        "colab": {
          "base_uri": "https://localhost:8080/"
        },
        "outputId": "3dd58718-ca78-4434-aff2-964805bb4081"
      },
      "source": [
        "n = 2\n",
        "x = [2*i*(1/n)-1 for i in range(n+1)]\n",
        "y = [1/(1+36*a**2) for a in x]\n",
        "print(\"x = 0.06, n=2, estimate f(x)=\"+str(interpolate(x,y,0.06)))\n",
        "n = 4\n",
        "x = [2*i*(1/n)-1 for i in range(n+1)]\n",
        "y = [1/(1+36*a**2) for a in x]\n",
        "print(\"x = 0.06, n=4, estimate f(x)=\"+str(interpolate(x,y,0.06)))\n",
        "n = 40\n",
        "x = [2*i*(1/n)-1 for i in range(n+1)]\n",
        "y = [1/(1+36*a**2) for a in x]\n",
        "print(\"x = 0.06, n=40, estimate f(x)=\"+str(interpolate(x,y,0.06)))\n",
        "print(\"actual f(x) at x = 0.06: \"+str(1/(1+36*0.06**2)))"
      ],
      "execution_count": 4,
      "outputs": [
        {
          "output_type": "stream",
          "name": "stdout",
          "text": [
            "x = 0.06, n=2, estimate f(x)=0.9964972972972974\n",
            "x = 0.06, n=4, estimate f(x)=0.9839329625945948\n",
            "x = 0.06, n=40, estimate f(x)=0.8852495990481558\n",
            "actual f(x) at x = 0.06: 0.8852691218130312\n"
          ]
        }
      ]
    },
    {
      "cell_type": "markdown",
      "metadata": {
        "id": "8rNTrnJ1KU5s"
      },
      "source": [
        "# Problem1d"
      ]
    },
    {
      "cell_type": "code",
      "metadata": {
        "id": "V69dhq4RKU5s",
        "colab": {
          "base_uri": "https://localhost:8080/"
        },
        "outputId": "c1856a6e-f65c-429b-936e-3af7df19ae0b"
      },
      "source": [
        "n = [2*i for i in range(1,11)]\n",
        "n.append(40)\n",
        "xtest = np.linspace(-1,1,100)\n",
        "En = []\n",
        "for i in n:\n",
        "  x = [2*j*(1/i)-1 for j in range(i+1)]\n",
        "  y = [1/(1+36*a**2) for a in x]\n",
        "  En.append(np.amax(np.absolute([1/(1+36*_x**2)-interpolate(x,y,_x) for _x in xtest])))\n",
        "print(En)"
      ],
      "execution_count": 5,
      "outputs": [
        {
          "output_type": "stream",
          "name": "stdout",
          "text": [
            "[0.698215835569571, 0.47151343866136586, 0.7068199700852285, 1.2973800521831758, 2.593800299361923, 5.351564572775559, 11.67731267283593, 24.963808140456, 53.72463280236109, 125.14588367239352, 421164.26147718134]\n"
          ]
        }
      ]
    },
    {
      "cell_type": "markdown",
      "metadata": {
        "id": "SZ9aUAxe2wvV"
      },
      "source": [
        "The error estimation increases as adding more data points to the function. In the part c, we find the error decreases at the region near origin. The overall curve of $\\frac{1}{1+36x^2}$ decreases from origin to $+x$ and $-x$ direction and the derivative are large close to origin. So using high order polynomial to interpolat the function with equal spacing will tend to minimize the difference in the region close to origin (we observe in part c) but create more wiggles around the edges of interval while approaching higher orders. Therefore, the maximum error increases using higher order polynomial to interpolate the function."
      ]
    },
    {
      "cell_type": "markdown",
      "metadata": {
        "id": "ECbzZZrm5AJX"
      },
      "source": [
        "#Q2 <br>\n",
        "1. Assuming we are using linear interpolation, then the error function is: <br>\n",
        "$e_1(x)= \\frac{f''(\\xi)}{2!}(x-x_1)(x-x_2)$ where $[x_1,x_2]$ is the window for x <br>\n",
        "Now, we want to find upper bound of the error function with a given window. So we calculate upper bound of each component of $e_1(x)$.<br> \n",
        "$f''(x) = -\\cos(x)$ and $\\max_{[-\\frac{\\pi}{2},\\frac{3\\pi}{2}]}f''(x) = 1$. <br>\n",
        "$\\max_{[x_1,x_2]} (x-x_1)(x-x_2) = \\max_{y \\in [0,h]}|y(y-h)|$ where $h = x_2-x_1$. The maximum of $|(y-h)y|$ is $\\frac{h^2}{4}$. <br>\n",
        "Therefore, $|e_1(x)| \\leq \\frac{1}{2}\\frac{h^2}{4} = \\frac{h^2}{8}$ and we want $|e_1(x)|< 5\\cdot 10^{-7}$. So, the window size is $h = 0.002$ and we need 3142 entries for the table. <br>\n",
        "2. Assuming we are using quadratic interpolation, then the error function is: <br>\n",
        "$e_2(x)= \\frac{f'''(\\xi)}{3!}(x-x_1)(x-x_2)(x-x_3)$ where $[x_1,x_3]$ is the window for x <br>\n",
        "Now, we want to find upper bound of the error function with a given window. So we calculate upper bound of each component of $e_2(x)$.<br> \n",
        "$f'''(x) = \\sin(x)$ and $\\max_{[-\\frac{\\pi}{2},\\frac{3\\pi}{2}]}f'''(x) = 1$. <br>\n",
        "$\\max_{[x_1,x_3]} (x-x_1)(x-x_2)(x-x_3) = \\max_{y \\in [-h,h]}|(y+h)y(y-h)|$ where $h = x_2-x_1 = x_3-x_2$. The maximum of $|(y-h)y(y+h)|$ is $\\frac{2}{3\\sqrt{3}}h^3$. <br>\n",
        "Therefore, $|e_1(x)| \\leq \\frac{1}{6}\\frac{2}{3\\sqrt{3}}h^3$ and we want $|e_1(x)|< 5\\cdot 10^{-7}$. So, the window size is $h = 0.0198$ and we need 317 entries for the table. <br>"
      ]
    },
    {
      "cell_type": "markdown",
      "metadata": {
        "id": "ICp8HfR58X0W"
      },
      "source": [
        "#Q3"
      ]
    },
    {
      "cell_type": "code",
      "metadata": {
        "colab": {
          "base_uri": "https://localhost:8080/"
        },
        "id": "knCT_9QuhBQU",
        "outputId": "5251030c-a353-42b7-cf5d-3ae76e8863a7"
      },
      "source": [
        "import math\n",
        "\n",
        "def newton(func, der, init):\n",
        "  a = np.random.uniform(low=init[0],high=init[1])\n",
        "  b = a - func(a)/der(a)\n",
        "  while np.abs(b-a)>0.001:\n",
        "    if b < init[0] or b > init[1]:\n",
        "      a = np.random.uniform(low=init[0],high=init[1])\n",
        "      b = a - func(a)/der(a)\n",
        "      continue\n",
        "    a = b\n",
        "    b = a - func(a)/der(a)\n",
        "  return b\n",
        "def der(a):\n",
        "  return 1/(math.cos(a))**2\n",
        "a = newton(math.tan, der,[16,19])\n",
        "b = newton(math.tan, der,[19,22])\n",
        "print(a)\n",
        "print(b)"
      ],
      "execution_count": 6,
      "outputs": [
        {
          "output_type": "stream",
          "name": "stdout",
          "text": [
            "18.84955592153876\n",
            "21.991148575127845\n"
          ]
        }
      ]
    },
    {
      "cell_type": "markdown",
      "metadata": {
        "id": "19xDKm3gT-zS"
      },
      "source": [
        "#Q4 <br>\n",
        "For Newton's method, we have $x_{n+1} = x_n - \\frac{f(x)}{f'(x)}$. Now, we define error as $\\epsilon_n = \\xi - x_n$, where $\\xi$ is the 2nd order root.<br>\n",
        "$\\epsilon_{n+1} = \\epsilon_n - h(\\xi - \\epsilon_n)$, where $h(x) = \\frac{f(x)}{f'(x)}$.<br>\n",
        "We multiply both side with $f'(\\xi - \\epsilon_n)$. $f'(\\xi - \\epsilon_n) \\epsilon_{n+1} = f'(\\xi - \\epsilon_n)\\epsilon_n + f(\\xi - \\epsilon_n)$. The taylor expansion of $f(x+\\delta x) = f(x) + f'(x)\\delta x+ \\frac{f''(x)}{2!}(\\delta x)^2 + \\cdots$. We approximate both $f(x)$ and $f'(x)$ using first three terms.<br>\n",
        "$(f'(\\xi) + f''(\\xi)(- \\epsilon_n)+ \\frac{f'''(\\xi)}{2!}(\\epsilon_n)^2) \\epsilon_{n+1}= (f'(\\xi) + f''(\\xi)(- \\epsilon_n)+ \\frac{f'''(\\xi)}{2!}(\\epsilon_n)^2)\\epsilon_n + (f(\\xi) + f'(\\xi)(- \\epsilon_n)+ \\frac{f''(\\xi)}{2!}(\\epsilon_n)^2)$. $f(\\xi) = f'(\\xi) = 0$, so the right hand equals to $\\frac{f'''(\\xi)}{2}(\\epsilon_n)^3 - \\frac{f''(\\xi)}{2}(\\epsilon_n)^2$. Therefore, $(f''(\\xi)(- \\epsilon_n)+ \\frac{f'''(\\xi)}{2!}(\\epsilon_n)^2) \\epsilon_{n+1} = \\frac{f'''(\\xi)}{2}(\\epsilon_n)^3 - \\frac{f''(\\xi)}{2}(\\epsilon_n)^2$. Ignoring the higher order terms, $\\epsilon_{n+1} \\approx \\frac{1}{2}\\epsilon_n$ so Newton's method converges linearly.<br>\n",
        "Now, if $x_{n+1} = x_n - 2\\frac{f(x)}{f'(x)}$ and $\\epsilon_{n+1} = \\epsilon_n - h(\\xi - \\epsilon_n)$, where $h(x) = 2\\frac{f(x)}{f'(x)}$. Similarly, we multiply both side with $f'(\\xi - \\epsilon_n)$ and approximate both $f(x)$ and $f'(x)$ using first three terms. $(f''(\\xi)(- \\epsilon_n)+ \\frac{f'''(\\xi)}{2!}(\\epsilon_n)^2) \\epsilon_{n+1} = (f''(\\xi)(- \\epsilon_n)+ \\frac{f'''(\\xi)}{2!}(\\epsilon_n)^2)\\epsilon_n + (f''(\\xi)(\\epsilon_n)^2) = \\frac{f'''(\\xi)}{2!}(\\epsilon_n)^3$. Ignoring the higher order terms, $\\epsilon_{n+1} \\approx -\\frac{f'''(\\xi)}{2f''(\\xi)}\\epsilon_n^2$ so Newton's method converges quadratically.<br>"
      ]
    },
    {
      "cell_type": "markdown",
      "metadata": {
        "id": "pK91yjNLWGgD"
      },
      "source": [
        "#Q5"
      ]
    },
    {
      "cell_type": "code",
      "metadata": {
        "colab": {
          "base_uri": "https://localhost:8080/"
        },
        "id": "a1xFGF2QWFlN",
        "outputId": "64be26db-2a15-48fb-c60a-129e318ffacc"
      },
      "source": [
        "import cmath\n",
        "import random\n",
        "def difftable(x,y):\n",
        "  table = []\n",
        "  table.append(y)\n",
        "  for i in range(1,len(x)):\n",
        "    table.append([])\n",
        "    for j in range(len(x)-i):\n",
        "      table[-1].append((table[i-1][j]-table[i-1][j+1])/(x[j]-x[j+i]))\n",
        "  return table\n",
        "\n",
        "def muller(func, x, iter, ans):\n",
        "  # need to have enough spacing between x\n",
        "  for k in range(iter):\n",
        "    #print([func(i)/np.prod([i-j for j in ans]) for i in x])\n",
        "    y = [func(i)/np.prod([i-j for j in ans]) for i in x]\n",
        "    table = difftable(x,y)\n",
        "    c = table[0][2]\n",
        "    a = table[2][0]\n",
        "    b = table[1][1]+table[2][0]*(x[2]-x[1])\n",
        "    delta = cmath.sqrt(b**2-4*a*c)\n",
        "    if np.abs(b+delta)<np.abs(b-delta):\n",
        "      lower = b+delta\n",
        "    else:\n",
        "      lower = b-delta \n",
        "    x_new = x[2]-2*c/lower\n",
        "    #print(x_new)\n",
        "    if(np.abs(x_new-x[2])<0.00001):\n",
        "      return x[-1]\n",
        "    x= np.delete(x,0)\n",
        "    x = np.append(x,x_new)\n",
        "  return x[-1]\n",
        "\n",
        "def f(x):\n",
        "  return x**4+x+1\n",
        "\n",
        "ans = []\n",
        "root = 0\n",
        "for i in range(3):\n",
        "  init = np.random.uniform(low=-2,high=2,size=3)\n",
        "  root = muller(f,init,100,ans)\n",
        "  ans.append(root)\n",
        "  print(root)\n",
        "while(len(ans)<4):\n",
        "  init = np.random.uniform(low=-2,high=2,size=3)\n",
        "  root = muller(f,init,100,ans[0:2])\n",
        "  add = True\n",
        "  for i in ans:\n",
        "    if(np.abs(root-i)<0.0001):\n",
        "      add = False\n",
        "      break\n",
        "  if add:\n",
        "    print(root)\n",
        "    ans.append(root)"
      ],
      "execution_count": 39,
      "outputs": [
        {
          "output_type": "stream",
          "name": "stdout",
          "text": [
            "(-0.7371254602518575+0.4124120587632052j)\n",
            "(0.7271346170253212-0.9340987447118914j)\n",
            "(0.7271360845060946+0.9340992894842675j)\n",
            "(-0.7271361122462581-0.4300142934690021j)\n"
          ]
        }
      ]
    },
    {
      "cell_type": "markdown",
      "metadata": {
        "id": "3uXWuFPmy-H6"
      },
      "source": [
        "#Q6<br>\n",
        "a. <br>\n",
        "$p(x) = x^3-2x^2+x-2$ and $q(x) = x^2+x-6$.<br>\n",
        "we create a $5 \\times 5$ resultant. $\\begin{pmatrix}1 & -2 & 1 & -2 & 0\\\\ 0 & 1 & -2 & 1 & -2\\\\ 1 & 1 & -6 & 0 & 0\\\\0 & 1 & 1 & -6 & 0\\\\0 & 0 &1 & 1 & -6\\\\\\end{pmatrix}$. The determinant of matrix is 0. Therefore, the two equation share common roots.<br>\n",
        "b.<br>\n",
        "From equation $\\frac{x_i}{x_j}= (-1)^{i+j}\\frac{det(A_i)}{det(A_j)}$, where $A_i$ is matrix A with column i removed. From calculation we find $x = 2$ is the common root."
      ]
    },
    {
      "cell_type": "code",
      "metadata": {
        "colab": {
          "base_uri": "https://localhost:8080/"
        },
        "id": "jg4NiFR81ThV",
        "outputId": "472d54ac-80e0-4275-8ef0-b58a1c57f4dd"
      },
      "source": [
        "import numpy.linalg\n",
        "a = np.array([[1,-2,1,-2,0],[0,1,-2,1,-2],[1,1,-6,0,0],[0,1,1,-6,0],[0,0,1,1,-6]])\n",
        "print(np.linalg.det(a))\n",
        "\n",
        "a = np.delete(a,4,0)\n",
        "a1 = np.delete(a,1,1)\n",
        "a0 = np.delete(a,0,1)\n",
        "x = -np.linalg.det(a0)/np.linalg.det(a1)\n",
        "print(x)"
      ],
      "execution_count": 8,
      "outputs": [
        {
          "output_type": "stream",
          "name": "stdout",
          "text": [
            "3.996802888650581e-14\n",
            "2.0\n"
          ]
        }
      ]
    },
    {
      "cell_type": "markdown",
      "metadata": {
        "id": "W5IIZ5Yn4NGb"
      },
      "source": [
        "#Q7<br>\n",
        "a.<br>\n",
        "$p(x,y) = 2x^2+2y^2+8x+4y+9$ and $q(x,y) = x^2+y^2+2xy+5x+7y+8$."
      ]
    },
    {
      "cell_type": "code",
      "metadata": {
        "colab": {
          "base_uri": "https://localhost:8080/",
          "height": 295
        },
        "id": "AfYzt9-G_DhB",
        "outputId": "26eb240c-ea55-441b-b332-0992dc258393"
      },
      "source": [
        "import matplotlib.pyplot as plt\n",
        "def p(x,y):\n",
        "  return 2*x**2 + 2*y**2+8*x+4*y+9\n",
        "\n",
        "def q(x,y):\n",
        "  return x**2+y**2+2*x*y+5*x+7*y+8\n",
        "\n",
        "x = np.linspace(-10,5,1001)\n",
        "y = np.linspace(-10,5,1001)\n",
        "X,Y = np.meshgrid(x,y)\n",
        "'''\n",
        "p = np.zeros((1001,1001))\n",
        "q = np.zeros((1001,1001))\n",
        "for i in range(1001):\n",
        "  for j in range(1001):\n",
        "    pij = p(X[i,j],Y[i,j])\n",
        "    qij = q(X[i,j],Y[i,j])\n",
        "    if np.abs(pij)<0.01:\n",
        "      p[i,j] = 1\n",
        "    if np.abs(qij)<0.01:\n",
        "      q[i,j] = 1\n",
        "'''\n",
        "P = 2*X**2 + 2*Y**2+8*X+4*Y+9\n",
        "Q = X**2+Y**2+2*X*Y+5*X+7*Y+8\n",
        "plt.figure()\n",
        "\n",
        "levels = [0.0]\n",
        "contour = plt.contour(X, Y, P, levels)\n",
        "contour = plt.contour(X, Y, Q, levels)\n",
        "plt.title('Plot from level list')\n",
        "plt.xlabel('x (cm)')\n",
        "plt.ylabel('y (cm)')\n",
        "plt.show()\n"
      ],
      "execution_count": 9,
      "outputs": [
        {
          "output_type": "display_data",
          "data": {
            "image/png": "[encoded data removed]",
            "text/plain": [
              "<Figure size 432x288 with 1 Axes>"
            ]
          },
          "metadata": {
            "needs_background": "light"
          }
        }
      ]
    },
    {
      "cell_type": "markdown",
      "metadata": {
        "id": "nUAnWGSQl1Ar"
      },
      "source": [
        "b."
      ]
    },
    {
      "cell_type": "code",
      "metadata": {
        "colab": {
          "base_uri": "https://localhost:8080/"
        },
        "id": "6g23Np9WMhvX",
        "outputId": "5748eb8b-659f-403e-ef44-50515d4581d1"
      },
      "source": [
        "#import sympy as sp\n",
        "#from sympy.solvers import solve\n",
        "from sympy import *\n",
        "x = symbols('x')\n",
        "# eliminate y\n",
        "\n",
        "res = Matrix([[2,4,2*x**2+8*x+9,0],[0,2,4,2*x**2+8*x+9],[1,2*x+7,x**2+5*x+8,0],[0,1,2*x+7,x**2+5*x+8]])\n",
        "a = res.det()\n",
        "ansx = [N(i) for i in solve(a, x)]\n",
        "ansx = ansx[2:4]\n",
        "print(ansx)\n",
        "ansy = [-sqrt((-2*ansx[0]**2-7-8*ansx[0])/2)-1, sqrt((-2*ansx[1]**2-7-8*ansx[1])/2)-1]\n",
        "print(ansy)"
      ],
      "execution_count": 10,
      "outputs": [
        {
          "output_type": "stream",
          "name": "stdout",
          "text": [
            "[-2.08405869450376, -1.29790731674634]\n",
            "[-1.70209268325366, -0.915941305496236]\n"
          ]
        }
      ]
    },
    {
      "cell_type": "markdown",
      "metadata": {
        "id": "-HrJld2n58u5"
      },
      "source": [
        "The two points are (-2.084,-0.298),(-1.298,-0.916)."
      ]
    },
    {
      "cell_type": "markdown",
      "metadata": {
        "id": "8H73HrNm9XRX"
      },
      "source": [
        "c."
      ]
    },
    {
      "cell_type": "code",
      "metadata": {
        "colab": {
          "base_uri": "https://localhost:8080/",
          "height": 295
        },
        "id": "t1hDrFjS9Z66",
        "outputId": "30643cca-cb47-457d-b747-b76353ea2f58"
      },
      "source": [
        "x = np.linspace(-10,5,1001)\n",
        "y = np.linspace(-10,5,1001)\n",
        "X,Y = np.meshgrid(x,y)\n",
        "P = 2*X**2 + 2*Y**2+8*X+4*Y+9\n",
        "Q = X**2+Y**2+2*X*Y+5*X+7*Y+8\n",
        "\n",
        "plt.figure()\n",
        "\n",
        "levels = [0.0]\n",
        "contour = plt.contour(X, Y, P, levels)\n",
        "contour = plt.contour(X, Y, Q, levels)\n",
        "plt.scatter(ansx,ansy)\n",
        "\n",
        "plt.title('Plot from level list')\n",
        "plt.xlabel('x')\n",
        "plt.ylabel('y')\n",
        "plt.show()"
      ],
      "execution_count": 11,
      "outputs": [
        {
          "output_type": "display_data",
          "data": {
            "image/png": "[encoded data removed]",
            "text/plain": [
              "<Figure size 432x288 with 1 Axes>"
            ]
          },
          "metadata": {
            "needs_background": "light"
          }
        }
      ]
    },
    {
      "cell_type": "markdown",
      "metadata": {
        "id": "h3cD2FB9_TME"
      },
      "source": [
        "#Q8<br>\n",
        "a.<br>\n",
        "We want point $(x_p,y_p)$ within triangle region of $(x^{(i)},y^{(i)})$,$(x^{(j)},y^{(j)})$, $(x^{(k)},y^{(k)})$. Then for any line formed by arbitary two points $(x^{(i)},y^{(i)})$,$(x^{(j)},y^{(j)})$, we want both $(x^{(k)},y^{(k)})$ and $(x_p,y_p)$ on the same side of the line.<br>\n",
        "Suppose the line with equation $ax+by+c=0$ goes through $(x^{(i)},y^{(i)})$,$(x^{(j)},y^{(j)})$, then lines $ax^{(k)}+by^{(k)}+d = 0$ and $ax_p+by_p+e = 0$ will have $d<c, e<c$ or $d>c, e>c$. Design the algorithm based on that."
      ]
    },
    {
      "cell_type": "code",
      "metadata": {
        "colab": {
          "base_uri": "https://localhost:8080/"
        },
        "id": "2fL2sbtPLhpz",
        "outputId": "8d8c6714-ed04-4687-dbf2-34cf860b3fb3"
      },
      "source": [
        "from scipy.linalg import svd\n",
        "def checkTriangle(x,y,xtest,ytest):\n",
        "  \n",
        "  for i in range(len(x)):\n",
        "    matrix = np.array([[x[i],y[i],0,0,1],[x[(i+1)%len(x)],y[(i+1)%len(x)],0,0,1],[x[(i+2)%len(x)],y[(i+2)%len(x)],1,0,1],[xtest,ytest,0,1,1]])\n",
        "    v = np.array([0,0,0,0])\n",
        "    u, s, vh = svd(matrix)\n",
        "    print(vh[-1,:])\n",
        "    count = 0\n",
        "    if(vh[-1,2]*vh[-1,3]>0.000001):\n",
        "      count+=1\n",
        "      print(\"test \"+str(i)+\" pass\")\n",
        "  return (count==3)\n",
        "x = [0,1,3]\n",
        "y = [6,6,9]\n",
        "xtest = 1\n",
        "ytest = 6.5\n",
        "print(checkTriangle(x,y,xtest,ytest))"
      ],
      "execution_count": 12,
      "outputs": [
        {
          "output_type": "stream",
          "name": "stdout",
          "text": [
            "[-2.22044605e-16 -1.47042924e-01  4.41128773e-01  7.35214622e-02\n",
            "  8.82257547e-01]\n",
            "test 0 pass\n",
            "[ 0.2941742  -0.19611614  0.2941742   0.09805807  0.88252261]\n",
            "test 1 pass\n",
            "[ 0.15961738 -0.15961738 -0.15961738 -0.07980869  0.95770426]\n",
            "test 2 pass\n",
            "False\n"
          ]
        }
      ]
    },
    {
      "cell_type": "markdown",
      "metadata": {
        "id": "9eB_iqSAo8Tc"
      },
      "source": [
        "b.<br>"
      ]
    },
    {
      "cell_type": "code",
      "metadata": {
        "colab": {
          "base_uri": "https://localhost:8080/",
          "height": 344
        },
        "id": "UR3rFtb_o4Y9",
        "outputId": "cf939157-bfde-473c-e60d-c083f74702cb"
      },
      "source": [
        "import matplotlib.pyplot as plt\n",
        "def checkFire(m,b,fire,r):\n",
        "  u, s, vh = svd(m)\n",
        "  nullv = vh[-1,:]\n",
        "  u, s, vh = svd(m,full_matrices=False)\n",
        "  for i,item in enumerate(s): # get the inverse of s\n",
        "    if abs(item) < 0.0001:\n",
        "      s[i] = 0\n",
        "    else:\n",
        "      s[i] = 1.0/item\n",
        "  x = np.dot(np.transpose(vh),np.dot(np.diag(s),np.dot(np.transpose(u),b)))\n",
        "  \n",
        "def selectPath(start, fire, r):\n",
        "  a = np.loadtxt('paths.txt')\n",
        "  a = np.array(a).reshape((-1,2,a.shape[1]))\n",
        "  bipath = [[],[]]\n",
        "  for i in range(a.shape[0]):\n",
        "    xdis = [np.abs(fire[1]-xa) for xa in a[i,1,:]]\n",
        "    if(fire[0]-a[i,0,np.argmin(xdis)]<0):\n",
        "      bipath[0].append(i) # fire on the right\n",
        "    else:\n",
        "      bipath[1].append(i)\n",
        "      '''\n",
        "  plt.figure()\n",
        "  for i in bipath[0]:\n",
        "    plt.plot(a[i,0,:],a[i,1,:])\n",
        "\n",
        "  plt.title('Plot from level list')\n",
        "  plt.xlabel('x')\n",
        "  plt.ylabel('y')\n",
        "  plt.show()\n",
        "  '''\n",
        "  for o in range(2):\n",
        "    for i in range(len(bipath[o])):\n",
        "      for j in range(i+1,len(bipath[o])):\n",
        "        for k in range(j+1,len(bipath[o])):\n",
        "          x = [a[bipath[o][i],0,0],a[bipath[o][j],0,0],a[bipath[o][k],0,0]]\n",
        "          y = [a[bipath[o][i],1,0],a[bipath[o][j],1,0],a[bipath[o][k],1,0]]\n",
        "          if checkTriangle(x,y,start[0],start[1]):\n",
        "            m = np.vstack([np.array(x),np.array(y),np.array([1,1,1])])\n",
        "            b = np.array([start[0],start[1],1])\n",
        "            u, s, vh = svd(m)\n",
        "            if np.min(np.abs(s))==0:\n",
        "              continue\n",
        "            else:\n",
        "              weights = np.dot(np.transpose(vh),np.dot(np.diag(1/s),np.dot(np.transpose(u),b)))\n",
        "              oldpathx = np.array([a[bipath[o][i],0,:],a[bipath[o][j],0,:],a[bipath[o][k],0,:]])\n",
        "              oldpathy = np.array([a[bipath[o][i],1,:],a[bipath[o][j],1,:],a[bipath[o][k],1,:]])\n",
        "              newpath = np.vstack(np.dot(weights,oldpathx),np.dot(weights,oldpathy))\n",
        "              return newpath\n",
        "  \n",
        "\n",
        "newpath = selectPath([0.8,1.8],[5,5],1.5)"
      ],
      "execution_count": 40,
      "outputs": [
        {
          "output_type": "error",
          "ename": "OSError",
          "evalue": "ignored",
          "traceback": [
            "\u001b[0;31m---------------------------------------------------------------------------\u001b[0m",
            "\u001b[0;31mOSError\u001b[0m                                   Traceback (most recent call last)",
            "\u001b[0;32m<ipython-input-40-1f0deb27522a>\u001b[0m in \u001b[0;36m<module>\u001b[0;34m()\u001b[0m\n\u001b[1;32m     51\u001b[0m \u001b[0;34m\u001b[0m\u001b[0m\n\u001b[1;32m     52\u001b[0m \u001b[0;34m\u001b[0m\u001b[0m\n\u001b[0;32m---> 53\u001b[0;31m \u001b[0mnewpath\u001b[0m \u001b[0;34m=\u001b[0m \u001b[0mselectPath\u001b[0m\u001b[0;34m(\u001b[0m\u001b[0;34m[\u001b[0m\u001b[0;36m0.8\u001b[0m\u001b[0;34m,\u001b[0m\u001b[0;36m1.8\u001b[0m\u001b[0;34m]\u001b[0m\u001b[0;34m,\u001b[0m\u001b[0;34m[\u001b[0m\u001b[0;36m5\u001b[0m\u001b[0;34m,\u001b[0m\u001b[0;36m5\u001b[0m\u001b[0;34m]\u001b[0m\u001b[0;34m,\u001b[0m\u001b[0;36m1.5\u001b[0m\u001b[0;34m)\u001b[0m\u001b[0;34m\u001b[0m\u001b[0;34m\u001b[0m\u001b[0m\n\u001b[0m",
            "\u001b[0;32m<ipython-input-40-1f0deb27522a>\u001b[0m in \u001b[0;36mselectPath\u001b[0;34m(start, fire, r)\u001b[0m\n\u001b[1;32m     12\u001b[0m \u001b[0;34m\u001b[0m\u001b[0m\n\u001b[1;32m     13\u001b[0m \u001b[0;32mdef\u001b[0m \u001b[0mselectPath\u001b[0m\u001b[0;34m(\u001b[0m\u001b[0mstart\u001b[0m\u001b[0;34m,\u001b[0m \u001b[0mfire\u001b[0m\u001b[0;34m,\u001b[0m \u001b[0mr\u001b[0m\u001b[0;34m)\u001b[0m\u001b[0;34m:\u001b[0m\u001b[0;34m\u001b[0m\u001b[0;34m\u001b[0m\u001b[0m\n\u001b[0;32m---> 14\u001b[0;31m   \u001b[0ma\u001b[0m \u001b[0;34m=\u001b[0m \u001b[0mnp\u001b[0m\u001b[0;34m.\u001b[0m\u001b[0mloadtxt\u001b[0m\u001b[0;34m(\u001b[0m\u001b[0;34m'paths.txt'\u001b[0m\u001b[0;34m)\u001b[0m\u001b[0;34m\u001b[0m\u001b[0;34m\u001b[0m\u001b[0m\n\u001b[0m\u001b[1;32m     15\u001b[0m   \u001b[0ma\u001b[0m \u001b[0;34m=\u001b[0m \u001b[0mnp\u001b[0m\u001b[0;34m.\u001b[0m\u001b[0marray\u001b[0m\u001b[0;34m(\u001b[0m\u001b[0ma\u001b[0m\u001b[0;34m)\u001b[0m\u001b[0;34m.\u001b[0m\u001b[0mreshape\u001b[0m\u001b[0;34m(\u001b[0m\u001b[0;34m(\u001b[0m\u001b[0;34m-\u001b[0m\u001b[0;36m1\u001b[0m\u001b[0;34m,\u001b[0m\u001b[0;36m2\u001b[0m\u001b[0;34m,\u001b[0m\u001b[0ma\u001b[0m\u001b[0;34m.\u001b[0m\u001b[0mshape\u001b[0m\u001b[0;34m[\u001b[0m\u001b[0;36m1\u001b[0m\u001b[0;34m]\u001b[0m\u001b[0;34m)\u001b[0m\u001b[0;34m)\u001b[0m\u001b[0;34m\u001b[0m\u001b[0;34m\u001b[0m\u001b[0m\n\u001b[1;32m     16\u001b[0m   \u001b[0mbipath\u001b[0m \u001b[0;34m=\u001b[0m \u001b[0;34m[\u001b[0m\u001b[0;34m[\u001b[0m\u001b[0;34m]\u001b[0m\u001b[0;34m,\u001b[0m\u001b[0;34m[\u001b[0m\u001b[0;34m]\u001b[0m\u001b[0;34m]\u001b[0m\u001b[0;34m\u001b[0m\u001b[0;34m\u001b[0m\u001b[0m\n",
            "\u001b[0;32m/usr/local/lib/python3.7/dist-packages/numpy/lib/npyio.py\u001b[0m in \u001b[0;36mloadtxt\u001b[0;34m(fname, dtype, comments, delimiter, converters, skiprows, usecols, unpack, ndmin, encoding, max_rows)\u001b[0m\n\u001b[1;32m    959\u001b[0m             \u001b[0mfname\u001b[0m \u001b[0;34m=\u001b[0m \u001b[0mos_fspath\u001b[0m\u001b[0;34m(\u001b[0m\u001b[0mfname\u001b[0m\u001b[0;34m)\u001b[0m\u001b[0;34m\u001b[0m\u001b[0;34m\u001b[0m\u001b[0m\n\u001b[1;32m    960\u001b[0m         \u001b[0;32mif\u001b[0m \u001b[0m_is_string_like\u001b[0m\u001b[0;34m(\u001b[0m\u001b[0mfname\u001b[0m\u001b[0;34m)\u001b[0m\u001b[0;34m:\u001b[0m\u001b[0;34m\u001b[0m\u001b[0;34m\u001b[0m\u001b[0m\n\u001b[0;32m--> 961\u001b[0;31m             \u001b[0mfh\u001b[0m \u001b[0;34m=\u001b[0m \u001b[0mnp\u001b[0m\u001b[0;34m.\u001b[0m\u001b[0mlib\u001b[0m\u001b[0;34m.\u001b[0m\u001b[0m_datasource\u001b[0m\u001b[0;34m.\u001b[0m\u001b[0mopen\u001b[0m\u001b[0;34m(\u001b[0m\u001b[0mfname\u001b[0m\u001b[0;34m,\u001b[0m \u001b[0;34m'rt'\u001b[0m\u001b[0;34m,\u001b[0m \u001b[0mencoding\u001b[0m\u001b[0;34m=\u001b[0m\u001b[0mencoding\u001b[0m\u001b[0;34m)\u001b[0m\u001b[0;34m\u001b[0m\u001b[0;34m\u001b[0m\u001b[0m\n\u001b[0m\u001b[1;32m    962\u001b[0m             \u001b[0mfencoding\u001b[0m \u001b[0;34m=\u001b[0m \u001b[0mgetattr\u001b[0m\u001b[0;34m(\u001b[0m\u001b[0mfh\u001b[0m\u001b[0;34m,\u001b[0m \u001b[0;34m'encoding'\u001b[0m\u001b[0;34m,\u001b[0m \u001b[0;34m'latin1'\u001b[0m\u001b[0;34m)\u001b[0m\u001b[0;34m\u001b[0m\u001b[0;34m\u001b[0m\u001b[0m\n\u001b[1;32m    963\u001b[0m             \u001b[0mfh\u001b[0m \u001b[0;34m=\u001b[0m \u001b[0miter\u001b[0m\u001b[0;34m(\u001b[0m\u001b[0mfh\u001b[0m\u001b[0;34m)\u001b[0m\u001b[0;34m\u001b[0m\u001b[0;34m\u001b[0m\u001b[0m\n",
            "\u001b[0;32m/usr/local/lib/python3.7/dist-packages/numpy/lib/_datasource.py\u001b[0m in \u001b[0;36mopen\u001b[0;34m(path, mode, destpath, encoding, newline)\u001b[0m\n\u001b[1;32m    193\u001b[0m \u001b[0;34m\u001b[0m\u001b[0m\n\u001b[1;32m    194\u001b[0m     \u001b[0mds\u001b[0m \u001b[0;34m=\u001b[0m \u001b[0mDataSource\u001b[0m\u001b[0;34m(\u001b[0m\u001b[0mdestpath\u001b[0m\u001b[0;34m)\u001b[0m\u001b[0;34m\u001b[0m\u001b[0;34m\u001b[0m\u001b[0m\n\u001b[0;32m--> 195\u001b[0;31m     \u001b[0;32mreturn\u001b[0m \u001b[0mds\u001b[0m\u001b[0;34m.\u001b[0m\u001b[0mopen\u001b[0m\u001b[0;34m(\u001b[0m\u001b[0mpath\u001b[0m\u001b[0;34m,\u001b[0m \u001b[0mmode\u001b[0m\u001b[0;34m,\u001b[0m \u001b[0mencoding\u001b[0m\u001b[0;34m=\u001b[0m\u001b[0mencoding\u001b[0m\u001b[0;34m,\u001b[0m \u001b[0mnewline\u001b[0m\u001b[0;34m=\u001b[0m\u001b[0mnewline\u001b[0m\u001b[0;34m)\u001b[0m\u001b[0;34m\u001b[0m\u001b[0;34m\u001b[0m\u001b[0m\n\u001b[0m\u001b[1;32m    196\u001b[0m \u001b[0;34m\u001b[0m\u001b[0m\n\u001b[1;32m    197\u001b[0m \u001b[0;34m\u001b[0m\u001b[0m\n",
            "\u001b[0;32m/usr/local/lib/python3.7/dist-packages/numpy/lib/_datasource.py\u001b[0m in \u001b[0;36mopen\u001b[0;34m(self, path, mode, encoding, newline)\u001b[0m\n\u001b[1;32m    533\u001b[0m                                       encoding=encoding, newline=newline)\n\u001b[1;32m    534\u001b[0m         \u001b[0;32melse\u001b[0m\u001b[0;34m:\u001b[0m\u001b[0;34m\u001b[0m\u001b[0;34m\u001b[0m\u001b[0m\n\u001b[0;32m--> 535\u001b[0;31m             \u001b[0;32mraise\u001b[0m \u001b[0mIOError\u001b[0m\u001b[0;34m(\u001b[0m\u001b[0;34m\"%s not found.\"\u001b[0m \u001b[0;34m%\u001b[0m \u001b[0mpath\u001b[0m\u001b[0;34m)\u001b[0m\u001b[0;34m\u001b[0m\u001b[0;34m\u001b[0m\u001b[0m\n\u001b[0m\u001b[1;32m    536\u001b[0m \u001b[0;34m\u001b[0m\u001b[0m\n\u001b[1;32m    537\u001b[0m \u001b[0;34m\u001b[0m\u001b[0m\n",
            "\u001b[0;31mOSError\u001b[0m: paths.txt not found."
          ]
        }
      ]
    },
    {
      "cell_type": "code",
      "metadata": {
        "colab": {
          "base_uri": "https://localhost:8080/",
          "height": 251
        },
        "id": "lE-muR0hySeg",
        "outputId": "e29e7326-7784-4a31-d3fd-7fb7327914d6"
      },
      "source": [
        "import matplotlib.pyplot as plt\n",
        "plt.figure()\n",
        "for i in range(a.shape[0]):\n",
        "  plt.plot(a[i,0,:],a[i,1,:])\n",
        "\n",
        "plt.title('Plot from level list')\n",
        "plt.xlabel('x')\n",
        "plt.ylabel('y')\n",
        "plt.show()\n"
      ],
      "execution_count": 14,
      "outputs": [
        {
          "output_type": "error",
          "ename": "NameError",
          "evalue": "ignored",
          "traceback": [
            "\u001b[0;31m---------------------------------------------------------------------------\u001b[0m",
            "\u001b[0;31mNameError\u001b[0m                                 Traceback (most recent call last)",
            "\u001b[0;32m<ipython-input-14-59bd41df618a>\u001b[0m in \u001b[0;36m<module>\u001b[0;34m()\u001b[0m\n\u001b[1;32m      1\u001b[0m \u001b[0;32mimport\u001b[0m \u001b[0mmatplotlib\u001b[0m\u001b[0;34m.\u001b[0m\u001b[0mpyplot\u001b[0m \u001b[0;32mas\u001b[0m \u001b[0mplt\u001b[0m\u001b[0;34m\u001b[0m\u001b[0;34m\u001b[0m\u001b[0m\n\u001b[1;32m      2\u001b[0m \u001b[0mplt\u001b[0m\u001b[0;34m.\u001b[0m\u001b[0mfigure\u001b[0m\u001b[0;34m(\u001b[0m\u001b[0;34m)\u001b[0m\u001b[0;34m\u001b[0m\u001b[0;34m\u001b[0m\u001b[0m\n\u001b[0;32m----> 3\u001b[0;31m \u001b[0;32mfor\u001b[0m \u001b[0mi\u001b[0m \u001b[0;32min\u001b[0m \u001b[0mbipath\u001b[0m\u001b[0;34m[\u001b[0m\u001b[0;36m0\u001b[0m\u001b[0;34m]\u001b[0m\u001b[0;34m:\u001b[0m\u001b[0;34m\u001b[0m\u001b[0;34m\u001b[0m\u001b[0m\n\u001b[0m\u001b[1;32m      4\u001b[0m   \u001b[0mplt\u001b[0m\u001b[0;34m.\u001b[0m\u001b[0mplot\u001b[0m\u001b[0;34m(\u001b[0m\u001b[0ma\u001b[0m\u001b[0;34m[\u001b[0m\u001b[0mi\u001b[0m\u001b[0;34m,\u001b[0m\u001b[0;36m0\u001b[0m\u001b[0;34m,\u001b[0m\u001b[0;34m:\u001b[0m\u001b[0;34m]\u001b[0m\u001b[0;34m,\u001b[0m\u001b[0ma\u001b[0m\u001b[0;34m[\u001b[0m\u001b[0mi\u001b[0m\u001b[0;34m,\u001b[0m\u001b[0;36m1\u001b[0m\u001b[0;34m,\u001b[0m\u001b[0;34m:\u001b[0m\u001b[0;34m]\u001b[0m\u001b[0;34m)\u001b[0m\u001b[0;34m\u001b[0m\u001b[0;34m\u001b[0m\u001b[0m\n\u001b[1;32m      5\u001b[0m \u001b[0;34m\u001b[0m\u001b[0m\n",
            "\u001b[0;31mNameError\u001b[0m: name 'bipath' is not defined"
          ]
        },
        {
          "output_type": "display_data",
          "data": {
            "text/plain": [
              "<Figure size 432x288 with 0 Axes>"
            ]
          },
          "metadata": {}
        }
      ]
    }
  ]
}